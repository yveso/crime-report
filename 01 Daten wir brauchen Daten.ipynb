{
 "cells": [
  {
   "cell_type": "markdown",
   "metadata": {},
   "source": [
    "# Daten, wir brauchen Daten!\n",
    "\n",
    "Das Presseportal veröffentlicht unter dieser [Seite](https://www.presseportal.de/blaulicht/r/Baden-Baden) Polizeimeldungen für Baden-Baden (unter ähnlichen Links finden sich Meldungen für andere Städte).\n",
    "\n",
    "Die Seite bietet auch einen [RSS Feed](https://www.presseportal.de/rss/polizei/r/Baden-Baden.rss2), also einen maschinenlesbaren Nachrichtenticker, welcher von anderen Programmen abonniert werden kann. Dieser Feed wäre eine vorzügliche Quelle für unser kleines Projekt, schauen wir uns diesen Feed einmal an."
   ]
  },
  {
   "cell_type": "code",
   "execution_count": 1,
   "metadata": {},
   "outputs": [
    {
     "name": "stdout",
     "output_type": "stream",
     "text": [
      "Status Code der Anfrage: 200\n",
      "\n",
      "Erste Zeichen der Antwort: <?xml version=\"1.0\" encoding=\"ISO-8859-1\"?><rss version=\"2.0\" xmlns:content=\"http://purl.org/rss/1.0/modules/content/\" xmlns:atom=\"http://www.w3.org/2005/Atom\"><channel><title>Presseportal.de - Baden-Baden</title><link>https://www.presseportal.de/st/Baden-\n"
     ]
    }
   ],
   "source": [
    "import requests\n",
    "\n",
    "feed_url = \"https://www.presseportal.de/rss/polizei/r/Baden-Baden.rss2\"\n",
    "feed = requests.get(feed_url)\n",
    "\n",
    "print(f\"Status Code der Anfrage: {feed.status_code}\")\n",
    "print()\n",
    "print(f\"Erste Zeichen der Antwort: {feed.text[:256]}\")"
   ]
  },
  {
   "cell_type": "markdown",
   "metadata": {},
   "source": [
    "Der Feed antwortet und das Ergebnis sieht, wie erwartet, nach XML aus, dieses XML können wir parsen."
   ]
  },
  {
   "cell_type": "code",
   "execution_count": 2,
   "metadata": {},
   "outputs": [
    {
     "name": "stdout",
     "output_type": "stream",
     "text": [
      "15 Items im Feed:\n",
      "\tPOL-OG: Baden-Baden - Eingebrochen\n",
      "\tPOL-OG: Achern, Baden-Baden, A5 - Verfolgung endet in Handschellen\n",
      "\tPOL-OG: Baden-Baden, A5 - Unfall mit Folgen -Nachtragsmeldung-\n",
      "\tPOL-OG: Baden-Baden, A5 - Unfall mit Folgen\n",
      "\tHZA-KA: Bargeldschmuggel ist teuer!\n",
      "\tBPOLI-OG: Aggressiver Fahrgast bedroht Reisende und beleidigt Polizeibeamte\n",
      "\tBPOLI-OG: Festnahme am Flughafen\n",
      "\tPOL-OG: Rastatt, Winterdorf, A5- Flucht beendet\n",
      "\tPOL-OG: Baden-Baden - Nach Uhr gegriffen\n",
      "\tPOL-OG: Achern - Mutmaßlicher Einbrecher in Haft / Wer kennt die sichergestellten Gegenstände? / NACHTRAGSMELDUNG\n",
      "\tPOL-OG: Baden-Baden, Steinbach - Einbruch\n",
      "\tPOL-OG: Bühlertal - Gemeinsame Pressemitteilung der Staatsanwaltschaft Baden-Baden und des Polizeipräsidiums Offenburg - Kriminalpolizei ermittelt -NACHTRAGSMELDUNG-\n",
      "\tPOL-OG: Baden-Baden - In Brand geraten\n",
      "\tPOL-OG: Loffenau - Metalldiebe festgenommen\n",
      "\tPOL-OG: Baden-Baden - 20 Anrufe falscher Polizeibeamte\n"
     ]
    }
   ],
   "source": [
    "from bs4 import BeautifulSoup\n",
    "\n",
    "feed_soup = BeautifulSoup(feed.text, \"html.parser\")\n",
    "feed_items = feed_soup.find_all(\"item\")\n",
    "\n",
    "print(f\"{len(feed_items)} Items im Feed:\")\n",
    "\n",
    "for item in feed_items:\n",
    "    print(f\"\\t{item.title.get_text()}\")"
   ]
  },
  {
   "cell_type": "markdown",
   "metadata": {},
   "source": [
    "Auf der einen Seite funktioniert das Parsing und wir können den Feed auslesen, auf der anderen liefert der Feed aber nur die 15 aktuellsten Meldungen (welche auch anscheinend nicht alle direkt Baden-Baden betreffen), das ist für unsere Zwecke etwas dürftig. Daher verwerfen wir die Idee des RSS Feeds.\n",
    "\n",
    "Wir müssen uns unsere Daten wohl auf anderem Weg beschaffen. Schauen wir uns die Seite [https://www.presseportal.de/blaulicht/r/Baden-Baden](https://www.presseportal.de/blaulicht/r/Baden-Baden) noch einmal an. Auf dieser Seite werden 27 Meldungen gelistet, außerdem gibt es eine Pagination für ältere Meldungen, die zweite Seite hat die Adresse [https://www.presseportal.de/blaulicht/r/Baden-Baden/27](https://www.presseportal.de/blaulicht/r/Baden-Baden/27), die dritte Seite [https://www.presseportal.de/blaulicht/r/Baden-Baden/54](https://www.presseportal.de/blaulicht/r/Baden-Baden/54).\n",
    "\n",
    "Es scheint, ab der zweiten Seite, ein Muster zu geben. Die Zahl in der Adresse wird pro Seite immer um 27 erhöht (und jede Seite liefert 27 Meldungen). Wenn wir manuell diese Zahlen ändern und diese Adressen aufrufen, erkennen wir dass diese Zahl der ersten Meldung auf der Seite entspricht, wenn alle Meldungen **null-basiert** hochgezählt werden. Seite 1 zeigt also die die Meldungen 0-26, Seite 2 zeigt 27-53 usw. Folglich müsste die erste Seite auch unter [https://www.presseportal.de/blaulicht/r/Baden-Baden/0](https://www.presseportal.de/blaulicht/r/Baden-Baden/0) erreichbar sein.\n",
    "\n",
    "Wir probieren es aus und Bingo! Folglich können wir uns die Adressen für alle Seiten recht einfach generieren:"
   ]
  },
  {
   "cell_type": "code",
   "execution_count": 3,
   "metadata": {},
   "outputs": [
    {
     "name": "stdout",
     "output_type": "stream",
     "text": [
      "https://www.presseportal.de/blaulicht/r/Baden-Baden/0\n",
      "https://www.presseportal.de/blaulicht/r/Baden-Baden/27\n",
      "https://www.presseportal.de/blaulicht/r/Baden-Baden/54\n",
      "https://www.presseportal.de/blaulicht/r/Baden-Baden/81\n",
      "https://www.presseportal.de/blaulicht/r/Baden-Baden/108\n"
     ]
    }
   ],
   "source": [
    "for i in range(5):\n",
    "    print(f\"https://www.presseportal.de/blaulicht/r/Baden-Baden/{i * 27}\")"
   ]
  },
  {
   "cell_type": "markdown",
   "metadata": {},
   "source": [
    "Jetzt wissen wir, wo wir unsere Information herbekommen, Zeit sich um das Wie zu kümmern. Daher schauen wir eine solche Seite mal genauer an."
   ]
  },
  {
   "cell_type": "code",
   "execution_count": 4,
   "metadata": {},
   "outputs": [
    {
     "data": {
      "text/plain": [
       "200"
      ]
     },
     "execution_count": 4,
     "metadata": {},
     "output_type": "execute_result"
    }
   ],
   "source": [
    "url = \"https://www.presseportal.de/blaulicht/r/Baden-Baden/0\"\n",
    "r = requests.get(url)\n",
    "r.status_code"
   ]
  },
  {
   "cell_type": "markdown",
   "metadata": {},
   "source": [
    "Wenn wir im Browser die Entwicklertools öffnen, können wir feststellen, dass jede Einzelmeldung innerhalb eines `<article>` Tag mit der Klasse `news` erscheint. Die eigentliche Schlagzeile befindet sich in einem `<h3>` Tag mit der Klasse `news-headline-clamp`. Somit können wir die 27 Schlagzeilen aus der Seite extrahieren:"
   ]
  },
  {
   "cell_type": "code",
   "execution_count": 5,
   "metadata": {},
   "outputs": [
    {
     "name": "stdout",
     "output_type": "stream",
     "text": [
      "0 -> POL-OG: Baden-Baden - Eingebrochen\n",
      "1 -> POL-OG: Achern, Baden-Baden, A5 - Verfolgung endet in Handschellen\n",
      "2 -> POL-OG: Baden-Baden, A5 - Unfall mit Folgen -Nachtragsmeldung-\n",
      "3 -> POL-OG: Baden-Baden, A5 - Unfall mit Folgen\n",
      "4 -> HZA-KA: Bargeldschmuggel ist teuer!\n",
      "5 -> BPOLI-OG: Aggressiver Fahrgast bedroht Reisende und beleidigt Polizeibeamte\n",
      "6 -> BPOLI-OG: Festnahme am Flughafen\n",
      "7 -> POL-OG: Rastatt, Winterdorf, A5- Flucht beendet\n",
      "8 -> POL-OG: Baden-Baden - Nach Uhr gegriffen\n",
      "9 -> POL-OG: Achern - Mutmaßlicher Einbrecher in Haft / Wer kennt die sichergestellten Gegenstände? / NACHTRAGSMELDUNG\n",
      "10 -> POL-OG: Baden-Baden, Steinbach - Einbruch\n",
      "11 -> POL-OG: Bühlertal - Gemeinsame Pressemitteilung der Staatsanwaltschaft Baden-Baden und des Polizeipräsidiums Offenburg - Kriminalpolizei ermittelt -NACHTRAGSMELDUNG-\n",
      "12 -> POL-OG: Baden-Baden - In Brand geraten\n",
      "13 -> POL-OG: Loffenau - Metalldiebe festgenommen\n",
      "14 -> POL-OG: Baden-Baden - 20 Anrufe falscher Polizeibeamte\n",
      "15 -> POL-OG: Baden-Baden, Ebersteinburg - Beim Einbruch gescheitert\n",
      "16 -> POL-OG: Bühlertal - Gemeinsame Pressemitteilung der Staatsanwaltschaft Baden-Baden und des Polizeipräsidiums Offenburg - Kriminalpolizei ermittelt\n",
      "17 -> POL-OG: Baden-Baden, Lichtental - Rabiat\n",
      "18 -> POL-OG: Mittelbaden - Saison für Wildunfälle\n",
      "19 -> POL-OG: Baden-Baden, A5 - Sachschaden\n",
      "20 -> POL-OG: Baden-Baden, Steinbach - Nach versuchtem Einbruch festgenommen\n",
      "21 -> BPOLI-OG: Taschendiebstahl im Nachtzug gescheitert/ Bundespolizei sucht Geschädigte\n",
      "22 -> POL-OG: Bühl, B 500 - Zwei Verletzte\n",
      "23 -> POL-OG: Baden-Baden, Oos - Gefährliche Ausfahrt / Zeugen gesucht\n",
      "24 -> POL-OG: Baden-Baden, Oos - Hund gestohlen / Zeugen gesucht\n",
      "25 -> POL-OG: Baden-Baden - Rückwärts von Leiter gestürzt\n",
      "26 -> POL-OG: Mittelbaden - Sicherer Schulanfang\n"
     ]
    }
   ],
   "source": [
    "soup = BeautifulSoup(r.text, \"html.parser\")\n",
    "\n",
    "for i, article in enumerate(soup.find_all(\"article\", class_=\"news\")):\n",
    "    print(f\"{i} -> {article.find('h3', class_='news-headline-clamp').get_text()}\")"
   ]
  },
  {
   "cell_type": "markdown",
   "metadata": {},
   "source": [
    "Jeder `<article>` Tag enthält in einem `data-url` Attribut die URL-Slug zum eigentlichen Artikel. Damit haben wir das Rüstzeug, um uns eine größere Anzahl von Artikeln zu generieren:"
   ]
  },
  {
   "cell_type": "code",
   "execution_count": 6,
   "metadata": {},
   "outputs": [
    {
     "data": {
      "text/plain": [
       "135"
      ]
     },
     "execution_count": 6,
     "metadata": {},
     "output_type": "execute_result"
    }
   ],
   "source": [
    "articles = []\n",
    "\n",
    "for i in range(5):\n",
    "    soup = BeautifulSoup(\n",
    "        requests.get(f\"https://www.presseportal.de/blaulicht/r/Baden-Baden/{i * 27}\").text,\n",
    "        \"html.parser\"\n",
    "    )\n",
    "    for article in soup.find_all(\"article\", class_=\"news\"):\n",
    "        articles.append({\n",
    "            \"url\": article[\"data-url\"],\n",
    "            \"headline\": article.find(\"h3\", class_=\"news-headline-clamp\").get_text()\n",
    "        })\n",
    "\n",
    "len(articles)"
   ]
  },
  {
   "cell_type": "markdown",
   "metadata": {},
   "source": [
    "In der obigen Aufzählung sehen wir auch Artikel, welche nicht direkt Baden-Baden betreffen. In diesen Artikleln ist meist die Staatsanwaltschaft Baden-Baden involviert oder es wurden Verletzte in das Klinikum Baden-Baden gebracht. Diese Meldungen interessieren uns nicht.\n",
    "\n",
    "Der Anfang einer jeden Schlagzeile ist die Dienststelle, gefolgt von einem Doppeltpunkt. Uns interessieren nur die Meldungen des Polizeipräsidiums Offenburg (POL-OG), diese scheinen auch die Mehrheit auszumachen."
   ]
  },
  {
   "cell_type": "code",
   "execution_count": 7,
   "metadata": {},
   "outputs": [
    {
     "data": {
      "text/plain": [
       "Counter({'POL-OG': 120,\n",
       "         'HZA-KA': 2,\n",
       "         'BPOLI-OG': 10,\n",
       "         'POL-HN': 1,\n",
       "         'BPOLI-WEIL': 1,\n",
       "         'POL-KA': 1})"
      ]
     },
     "execution_count": 7,
     "metadata": {},
     "output_type": "execute_result"
    }
   ],
   "source": [
    "from collections import Counter\n",
    "\n",
    "Counter(article.get(\"headline\").split(\":\")[0] for article in articles)"
   ]
  },
  {
   "cell_type": "markdown",
   "metadata": {},
   "source": [
    "Von 135 Meldungen bleiben noch 120, da es darunter auch indirekte Nachrichten zu geben scheint, wollen wir zusätzlich auf das Vorhandensein von \"Baden-Baden\" innerhalb der Schlagzeile f\n",
    "filtern."
   ]
  },
  {
   "cell_type": "code",
   "execution_count": 8,
   "metadata": {},
   "outputs": [
    {
     "data": {
      "text/plain": [
       "82"
      ]
     },
     "execution_count": 8,
     "metadata": {},
     "output_type": "execute_result"
    }
   ],
   "source": [
    "pol_og_articles = [article for article in articles if article.get(\"headline\").startswith(\"POL-OG:\")]\n",
    "\n",
    "pol_og_bad_articles = [article for article in pol_og_articles if \"Baden-Baden\" in article.get(\"headline\")]\n",
    "\n",
    "len(pol_og_bad_articles)"
   ]
  },
  {
   "cell_type": "markdown",
   "metadata": {},
   "source": [
    "Jetzt basteln wir aus allem eine Funktion."
   ]
  },
  {
   "cell_type": "code",
   "execution_count": 9,
   "metadata": {},
   "outputs": [
    {
     "data": {
      "text/plain": [
       "82"
      ]
     },
     "execution_count": 9,
     "metadata": {},
     "output_type": "execute_result"
    }
   ],
   "source": [
    "def get_list_of_articles(number_of_pages):\n",
    "    articles = []\n",
    "    for i in range(number_of_pages):\n",
    "        soup = BeautifulSoup(\n",
    "            requests.get(f\"https://www.presseportal.de/blaulicht/r/Baden-Baden/{i * 27}\").text,\n",
    "            \"html.parser\"\n",
    "        )\n",
    "        for article in soup.find_all(\"article\", class_=\"news\"):\n",
    "            headline = article.find(\"h3\", class_=\"news-headline-clamp\").get_text()\n",
    "            if (headline.startswith(\"POL-OG:\") and \"Baden-Baden\" in headline):\n",
    "                articles.append({\n",
    "                    \"url\": article[\"data-url\"],\n",
    "                    \"headline\": headline\n",
    "                })\n",
    "    return articles\n",
    "\n",
    "\n",
    "len(get_list_of_articles(5))"
   ]
  },
  {
   "cell_type": "markdown",
   "metadata": {},
   "source": [
    "Nun lagern wir diese Funktion in eine Python Datei aus, damit wir sie auch in anderen Notebooks einfach verweden können."
   ]
  },
  {
   "cell_type": "code",
   "execution_count": 10,
   "metadata": {},
   "outputs": [
    {
     "data": {
      "text/plain": [
       "82"
      ]
     },
     "execution_count": 10,
     "metadata": {},
     "output_type": "execute_result"
    }
   ],
   "source": [
    "from scraping import get_list_of_articles as gloa\n",
    "\n",
    "len(gloa(5))"
   ]
  },
  {
   "cell_type": "markdown",
   "metadata": {},
   "source": [
    "Et voilà !"
   ]
  }
 ],
 "metadata": {
  "kernelspec": {
   "display_name": "Python 3",
   "language": "python",
   "name": "python3"
  },
  "language_info": {
   "codemirror_mode": {
    "name": "ipython",
    "version": 3
   },
   "file_extension": ".py",
   "mimetype": "text/x-python",
   "name": "python",
   "nbconvert_exporter": "python",
   "pygments_lexer": "ipython3",
   "version": "3.7.4"
  }
 },
 "nbformat": 4,
 "nbformat_minor": 4
}
