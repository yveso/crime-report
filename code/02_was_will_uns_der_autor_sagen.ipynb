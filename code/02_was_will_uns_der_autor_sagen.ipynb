{
 "cells": [
  {
   "cell_type": "markdown",
   "metadata": {},
   "source": [
    "# 02 Was will uns der Autor sagen?\n",
    "\n",
    "Nachdem wir nun wissen, wie wir an die Artikel kommen, schauen wir uns die Artikel selbst genauer an."
   ]
  },
  {
   "cell_type": "code",
   "execution_count": 1,
   "metadata": {},
   "outputs": [
    {
     "data": {
      "text/plain": [
       "200"
      ]
     },
     "execution_count": 1,
     "metadata": {},
     "output_type": "execute_result"
    }
   ],
   "source": [
    "import requests\n",
    "\n",
    "url = \"https://www.presseportal.de/blaulicht/pm/110975/4391289\"\n",
    "r = requests.get(url)\n",
    "r.status_code"
   ]
  },
  {
   "cell_type": "markdown",
   "metadata": {},
   "source": [
    "Aus diesem Artikel interessieren uns die folgenden Bestanteile:\n",
    "\n",
    "![Artikel Screenshot](../images/article.png)\n",
    "\n",
    "Die Teile 1-4 finden sich in einem `<div>` mit Klasse `card`.\n",
    "\n",
    "``` html\n",
    "<div class=\"card\" lang=\"de\">\n",
    "  <p class=\"date\">02.10.2019 – 13:14</p>\n",
    "  <p class=\"customer\">\n",
    "    <a class=\"story-customer\" title=\"weiter zum newsroom von Polizeipräsidium Offenburg\"\n",
    "      href=\"/blaulicht/nr/110975\">Polizeipräsidium Offenburg</a>\n",
    "  </p>\n",
    "  <h1>POL-OG: Baden-Baden - Eingebrochen</h1>\n",
    "  <div class=\"story-sharing\">\n",
    "    Redacted\n",
    "  </div>\n",
    "  <p>\n",
    "    <i><a data-category=\"citylink-story-view\" data-action=\"click\" data-label=\"Citylink in Meldungsansicht\"\n",
    "        class=\"story-city event-trigger\" href=\"/blaulicht/r/Baden-Baden\" title=\"News aus Baden-Baden \">Baden-Baden</a>\n",
    "      (ots)</i>\n",
    "  </p>\n",
    "  <p>\n",
    "    Nach einem Einbruch am Dienstagabend in ein Zweifamilienhaus in der\n",
    "    Albert-Schweitzer-Straße, haben die Beamten des Polizeireviers Baden-Baden\n",
    "    die Ermittlungen aufgenommen. Zwischen 19:30 Uhr und 21 Uhr verschaffte sich\n",
    "    ein Unbekannter gewaltsam Zugang, in dem er die Haus- und Wohnungstüre\n",
    "    aufhebelte. Mit einem Mobiltelefon als Beute suchte der Langfinger im\n",
    "    Anschluss das Weite.\n",
    "  </p>\n",
    "  <p>/rs</p>\n",
    "  <p></p>\n",
    "  <p>\n",
    "    Rückfragen bitte an:<br />\n",
    "\n",
    "    <br />\n",
    "    Polizeipräsidium Offenburg<br />\n",
    "    Telefon: 0781 - 211211<br />\n",
    "    E-Mail:\n",
    "    <a href=\"mailto:offenburg.pp.stab.oe@polizei.bwl.de\"\n",
    "      class=\"uri-mailto\">offenburg.pp.stab.oe@polizei.bwl.de</a><br />\n",
    "    <a target=\"_blank\" href=\"http://www.polizei-bw.de/\" class=\"uri-ext outbound\">http://www.polizei-bw.de/</a>\n",
    "  </p>\n",
    "  <p class=\"originator\">\n",
    "    Original-Content von: Polizeipräsidium Offenburg, übermittelt durch news\n",
    "    aktuell\n",
    "  </p>\n",
    "  <div class=\"no-float\"></div>\n",
    "</div>                \n",
    "```"
   ]
  },
  {
   "cell_type": "code",
   "execution_count": 2,
   "metadata": {},
   "outputs": [],
   "source": [
    "from bs4 import BeautifulSoup\n",
    "\n",
    "soup = BeautifulSoup(r.text, \"html.parser\")\n",
    "div_card = soup.find(\"div\", class_=\"card\")"
   ]
  },
  {
   "cell_type": "markdown",
   "metadata": {},
   "source": [
    "## 1. Publish Date\n",
    "\n",
    "Im Artikel finden sich vermehrt `<p>` Tags, aber die Klassen sind eindeutig, das Datum findet sich mit der Klasse `date`. Den Inhalt parsen wir auch gleich."
   ]
  },
  {
   "cell_type": "code",
   "execution_count": 3,
   "metadata": {},
   "outputs": [
    {
     "data": {
      "text/plain": [
       "datetime.datetime(2019, 10, 2, 13, 14)"
      ]
     },
     "execution_count": 3,
     "metadata": {},
     "output_type": "execute_result"
    }
   ],
   "source": [
    "from datetime import datetime\n",
    "\n",
    "date_text = div_card.find(\"p\", class_=\"date\").get_text()\n",
    "publish_date = datetime.strptime(date_text, \"%d.%m.%Y – %H:%M\")\n",
    "publish_date"
   ]
  },
  {
   "cell_type": "markdown",
   "metadata": {},
   "source": [
    "## 2. Publisher\n",
    "\n",
    "Zwar interessieren uns nur die Meldungen des Polizeipräsidiums Offeburg, aber was man hat, das hat man. 😃"
   ]
  },
  {
   "cell_type": "code",
   "execution_count": 4,
   "metadata": {},
   "outputs": [
    {
     "data": {
      "text/plain": [
       "'Polizeipräsidium Offenburg'"
      ]
     },
     "execution_count": 4,
     "metadata": {},
     "output_type": "execute_result"
    }
   ],
   "source": [
    "publisher = div_card.find(\"p\", class_=\"customer\").get_text().strip()\n",
    "publisher"
   ]
  },
  {
   "cell_type": "markdown",
   "metadata": {},
   "source": [
    "## 3. Headline\n",
    "\n",
    "Die Headline findet sich (vorbildlich) in einem `<h1>` Tag. Das Kürzel zu Beginn ist allerdings redundant."
   ]
  },
  {
   "cell_type": "code",
   "execution_count": 5,
   "metadata": {},
   "outputs": [
    {
     "data": {
      "text/plain": [
       "'Baden-Baden - Eingebrochen'"
      ]
     },
     "execution_count": 5,
     "metadata": {},
     "output_type": "execute_result"
    }
   ],
   "source": [
    "headline_raw = div_card.find(\"h1\").get_text()\n",
    "headline = \"\".join(headline_raw.split(\":\")[1:]).strip()\n",
    "headline"
   ]
  },
  {
   "cell_type": "markdown",
   "metadata": {},
   "source": [
    "## 4. Content\n",
    "\n",
    "Hier gibt es keine Klasse und wir müssen die Paragraphen durchzählen."
   ]
  },
  {
   "cell_type": "code",
   "execution_count": 6,
   "metadata": {},
   "outputs": [
    {
     "data": {
      "text/plain": [
       "'Nach einem Einbruch am Dienstagabend in ein Zweifamilienhaus in der Albert-Schweitzer-Straße, haben die Beamten des Polizeireviers Baden-Baden die Ermittlungen aufgenommen. Zwischen 19:30 Uhr und 21 Uhr verschaffte sich ein Unbekannter gewaltsam Zugang, in dem er die Haus- und Wohnungstüre aufhebelte. Mit einem Mobiltelefon als Beute suchte der Langfinger im Anschluss das Weite.'"
      ]
     },
     "execution_count": 6,
     "metadata": {},
     "output_type": "execute_result"
    }
   ],
   "source": [
    "content = div_card.find_all(\"p\")[3].get_text().strip()\n",
    "content"
   ]
  },
  {
   "cell_type": "markdown",
   "metadata": {},
   "source": [
    "Die beiden Tag Clouds finden sich in einem `<div>` mit der Klasse `story-linkbox`.\n",
    "\n",
    "``` html\n",
    "<div class=\"story-linkbox\">\n",
    "  <div class=\"story-linkbox-newsroom\" id=\"author\">\n",
    "    Redacted\n",
    "  </div>\n",
    "\n",
    "  <div class=\"story-linkbox-docs\">\n",
    "    Redacted\n",
    "  </div>\n",
    "\n",
    "  <h4 class=\"mtxl\">Orte in dieser Meldung</h4>\n",
    "  <ul class=\"tags\">\n",
    "    <li data-name=\"viperTag\" data-score=\"1\"><a href=\"/blaulicht/r/Baden-Baden\" class=\"btn event-trigger\" rel=\"tag\"\n",
    "        data-category=\"story-tags\" data-action=\"click\" data-label=\"Baden-Baden\" data-callback=\"link\"\n",
    "        data-url=\"/blaulicht/r/Baden-Baden\">Baden-Baden</a></li>\n",
    "    <li data-name=\"viperTag\" data-score=\"1\"><a href=\"/blaulicht/l/baden-wuerttemberg\" class=\"btn event-trigger\"\n",
    "        rel=\"tag\" data-category=\"story-tags\" data-action=\"click\" data-label=\"Baden-Württemberg\" data-callback=\"link\"\n",
    "        data-url=\"/blaulicht/l/baden-wuerttemberg\">Baden-Württemberg</a></li>\n",
    "  </ul>\n",
    "  <h4 class=\"mts\">Themen in dieser Meldung</h4>\n",
    "  <ul class=\"tags\">\n",
    "    <li data-name=\"viperTag\" data-score=\"0.24487918615341\"><a href=\"/blaulicht/st/POL\" class=\"btn event-trigger\"\n",
    "        rel=\"tag\" data-category=\"story-tags\" data-action=\"click\" data-label=\"POL\" data-callback=\"link\"\n",
    "        data-url=\"/blaulicht/st/POL\">POL</a></li>\n",
    "    <li data-name=\"viperTag\" data-score=\"0.082585297524929\"><a href=\"/blaulicht/st/Einbruch\" class=\"btn event-trigger\"\n",
    "        rel=\"tag\" data-category=\"story-tags\" data-action=\"click\" data-label=\"Einbruch\" data-callback=\"link\"\n",
    "        data-url=\"/blaulicht/st/Einbruch\">Einbruch</a></li>\n",
    "    <li data-name=\"viperTag\" data-score=\"0.076921388506889\"><a href=\"/blaulicht/st/Haus-\" class=\"btn event-trigger\"\n",
    "        rel=\"tag\" data-category=\"story-tags\" data-action=\"click\" data-label=\"Haus-\" data-callback=\"link\"\n",
    "        data-url=\"/blaulicht/st/Haus-\">Haus-</a></li>\n",
    "    <li data-name=\"viperTag\" data-score=\"0.0090736802667379\"><a href=\"/blaulicht/st/Polizeireviers%20Baden-Baden\"\n",
    "        class=\"btn event-trigger\" rel=\"tag\" data-category=\"story-tags\" data-action=\"click\"\n",
    "        data-label=\"Polizeireviers Baden-Baden\" data-callback=\"link\"\n",
    "        data-url=\"/blaulicht/st/Polizeireviers%20Baden-Baden\">Polizeireviers Baden-Baden</a></li>\n",
    "    <li data-name=\"viperTag\" data-score=\"0.64840000867844\"><a href=\"/blaulicht/st/Diebstahl\" class=\"btn event-trigger\"\n",
    "        rel=\"tag\" data-category=\"story-tags\" data-action=\"click\" data-label=\"Diebstahl\" data-callback=\"link\"\n",
    "        data-url=\"/blaulicht/st/Diebstahl\">Diebstahl</a></li>\n",
    "    <li data-name=\"viperTag\" data-score=\"1\"><a href=\"/blaulicht/d/polizei\" class=\"btn event-trigger\" rel=\"tag\"\n",
    "        data-category=\"story-tags\" data-action=\"click\" data-label=\"Polizei\" data-callback=\"link\"\n",
    "        data-url=\"/blaulicht/d/polizei\">Polizei</a></li>\n",
    "    <li data-name=\"viperTag\" data-score=\"1\"><a href=\"/blaulicht/d/polizei/l/baden-wuerttemberg\"\n",
    "        class=\"btn event-trigger\" rel=\"tag\" data-category=\"story-tags\" data-action=\"click\"\n",
    "        data-label=\"Polizei Baden-Württemberg\" data-callback=\"link\"\n",
    "        data-url=\"/blaulicht/d/polizei/l/baden-wuerttemberg\">Polizei Baden-Württemberg</a></li>\n",
    "  </ul>\n",
    "\n",
    "  <div class=\"no-float\"></div>\n",
    "</div>\n",
    "```"
   ]
  },
  {
   "cell_type": "code",
   "execution_count": 7,
   "metadata": {},
   "outputs": [],
   "source": [
    "sidebar = soup.find(\"div\", class_=\"story-linkbox\")"
   ]
  },
  {
   "cell_type": "markdown",
   "metadata": {},
   "source": [
    "## 5. Locations\n",
    "\n",
    "Beide Tagclouds sind jeweils in einem `<ul>` Tag, diese zählen wir wieder durch. Der Ort \"Baden-Württemberg\" liefert keinen Mehrwert, daher filtern wir diesen Wert aus."
   ]
  },
  {
   "cell_type": "code",
   "execution_count": 8,
   "metadata": {},
   "outputs": [
    {
     "data": {
      "text/plain": [
       "['Baden-Baden']"
      ]
     },
     "execution_count": 8,
     "metadata": {},
     "output_type": "execute_result"
    }
   ],
   "source": [
    "from bs4 import Tag\n",
    "\n",
    "location_cloud = sidebar.find_all(\"ul\", class_=\"tags\")[0]\n",
    "location_tags = list(filter(\n",
    "    lambda tag: tag != \"Baden-Württemberg\",\n",
    "    [tag.get_text() for tag in location_cloud.contents]\n",
    "))\n",
    "location_tags"
   ]
  },
  {
   "cell_type": "markdown",
   "metadata": {},
   "source": [
    "## 6. Topics\n",
    "\n",
    "Auch hier gibt es Tags ohne Mehrwert, welche wir filtern. Die Tags selbst scheinen automatisiert erstellt worden zu sein, daher sind sie eventuell nicht zu nützlich. Aber wie beim Publisher gilt, was man hat, das hat man."
   ]
  },
  {
   "cell_type": "code",
   "execution_count": 9,
   "metadata": {},
   "outputs": [
    {
     "data": {
      "text/plain": [
       "['Einbruch', 'Haus-', 'Polizeireviers Baden-Baden', 'Diebstahl']"
      ]
     },
     "execution_count": 9,
     "metadata": {},
     "output_type": "execute_result"
    }
   ],
   "source": [
    "topic_cloud = sidebar.find_all(\"ul\", class_=\"tags\")[1]\n",
    "topic_tags = list(filter(\n",
    "    lambda tag: tag not in [\"POL\", \"Polizei\", \"Polizei Baden-Württemberg\"],\n",
    "    [tag.get_text() for tag in topic_cloud.contents]\n",
    "))\n",
    "topic_tags"
   ]
  },
  {
   "cell_type": "markdown",
   "metadata": {},
   "source": [
    "Aus all diesen Einzelteilen basteln wir uns ein Artikel Objekt."
   ]
  },
  {
   "cell_type": "code",
   "execution_count": 10,
   "metadata": {},
   "outputs": [
    {
     "data": {
      "text/plain": [
       "{'url': 'https://www.presseportal.de/blaulicht/pm/110975/4391289',\n",
       " 'publish_date': datetime.datetime(2019, 10, 2, 13, 14),\n",
       " 'publisher': 'Polizeipräsidium Offenburg',\n",
       " 'headline': 'Baden-Baden - Eingebrochen',\n",
       " 'content': 'Nach einem Einbruch am Dienstagabend in ein Zweifamilienhaus in der Albert-Schweitzer-Straße, haben die Beamten des Polizeireviers Baden-Baden die Ermittlungen aufgenommen. Zwischen 19:30 Uhr und 21 Uhr verschaffte sich ein Unbekannter gewaltsam Zugang, in dem er die Haus- und Wohnungstüre aufhebelte. Mit einem Mobiltelefon als Beute suchte der Langfinger im Anschluss das Weite.',\n",
       " 'location_tags': ['Baden-Baden'],\n",
       " 'topic_tags': ['Einbruch',\n",
       "  'Haus-',\n",
       "  'Polizeireviers Baden-Baden',\n",
       "  'Diebstahl']}"
      ]
     },
     "execution_count": 10,
     "metadata": {},
     "output_type": "execute_result"
    }
   ],
   "source": [
    "article = {\n",
    "    \"url\": url,\n",
    "    \"publish_date\": publish_date,\n",
    "    \"publisher\": publisher,\n",
    "    \"headline\": headline,\n",
    "    \"content\": content,\n",
    "    \"location_tags\": location_tags,\n",
    "    \"topic_tags\": topic_tags\n",
    "}\n",
    "article"
   ]
  },
  {
   "cell_type": "markdown",
   "metadata": {},
   "source": [
    "Und wieder erstellen wir uns eine Funktion für alle Aufgaben."
   ]
  },
  {
   "cell_type": "code",
   "execution_count": 11,
   "metadata": {},
   "outputs": [
    {
     "data": {
      "text/plain": [
       "{'url': 'https://www.presseportal.de/blaulicht/pm/110975/4391289',\n",
       " 'publish_date': datetime.datetime(2019, 10, 2, 13, 14),\n",
       " 'publisher': 'Polizeipräsidium Offenburg',\n",
       " 'headline': 'Baden-Baden - Eingebrochen',\n",
       " 'content': 'Nach einem Einbruch am Dienstagabend in ein Zweifamilienhaus in der Albert-Schweitzer-Straße, haben die Beamten des Polizeireviers Baden-Baden die Ermittlungen aufgenommen. Zwischen 19:30 Uhr und 21 Uhr verschaffte sich ein Unbekannter gewaltsam Zugang, in dem er die Haus- und Wohnungstüre aufhebelte. Mit einem Mobiltelefon als Beute suchte der Langfinger im Anschluss das Weite.',\n",
       " 'location_tags': ['Baden-Baden'],\n",
       " 'topic_tags': ['Einbruch',\n",
       "  'Haus-',\n",
       "  'Polizeireviers Baden-Baden',\n",
       "  'Diebstahl']}"
      ]
     },
     "execution_count": 11,
     "metadata": {},
     "output_type": "execute_result"
    }
   ],
   "source": [
    "def get_article(url):\n",
    "    soup = BeautifulSoup(\n",
    "        requests.get(url).text,\n",
    "        \"html.parser\"\n",
    "    )\n",
    "    div_card = soup.find(\"div\", class_=\"card\")\n",
    "    sidebar = soup.find(\"div\", class_=\"story-linkbox\")\n",
    "    \n",
    "    date_text = div_card.find(\"p\", class_=\"date\").get_text()\n",
    "    publish_date = datetime.strptime(date_text, \"%d.%m.%Y – %H:%M\")\n",
    "    \n",
    "    publisher = div_card.find(\"p\", class_=\"customer\").get_text().strip()\n",
    "    \n",
    "    headline_raw = div_card.find(\"h1\").get_text()\n",
    "    headline = \"\".join(headline_raw.split(\":\")[1:]).strip()\n",
    "    \n",
    "    content = div_card.find_all(\"p\")[3].get_text().strip()\n",
    "    \n",
    "    location_tags = list(filter(\n",
    "        lambda tag: tag != \"Baden-Württemberg\",\n",
    "        [tag.get_text() for tag in sidebar.find_all(\"ul\", class_=\"tags\")[0].contents]\n",
    "    ))\n",
    "    \n",
    "    topic_tags = list(filter(\n",
    "        lambda tag: tag not in [\"POL\", \"Polizei\", \"Polizei Baden-Württemberg\"],\n",
    "        [tag.get_text() for tag in sidebar.find_all(\"ul\", class_=\"tags\")[1].contents]\n",
    "    ))\n",
    "    \n",
    "    return {\n",
    "        \"url\": url,\n",
    "        \"publish_date\": publish_date,\n",
    "        \"publisher\": publisher,\n",
    "        \"headline\": headline,\n",
    "        \"content\": content,\n",
    "        \"location_tags\": location_tags,\n",
    "        \"topic_tags\": topic_tags\n",
    "    }\n",
    "\n",
    "get_article(url)"
   ]
  },
  {
   "cell_type": "markdown",
   "metadata": {},
   "source": [
    "Und wieder wandert die Funktion nach extern:"
   ]
  },
  {
   "cell_type": "code",
   "execution_count": 12,
   "metadata": {},
   "outputs": [
    {
     "data": {
      "text/plain": [
       "{'url': 'https://www.presseportal.de/blaulicht/pm/110975/4391289',\n",
       " 'publish_date': datetime.datetime(2019, 10, 2, 13, 14),\n",
       " 'publisher': 'Polizeipräsidium Offenburg',\n",
       " 'headline': 'Baden-Baden - Eingebrochen',\n",
       " 'content': 'Nach einem Einbruch am Dienstagabend in ein Zweifamilienhaus in der Albert-Schweitzer-Straße, haben die Beamten des Polizeireviers Baden-Baden die Ermittlungen aufgenommen. Zwischen 19:30 Uhr und 21 Uhr verschaffte sich ein Unbekannter gewaltsam Zugang, in dem er die Haus- und Wohnungstüre aufhebelte. Mit einem Mobiltelefon als Beute suchte der Langfinger im Anschluss das Weite.',\n",
       " 'location_tags': ['Baden-Baden'],\n",
       " 'topic_tags': ['Einbruch',\n",
       "  'Haus-',\n",
       "  'Polizeireviers Baden-Baden',\n",
       "  'Diebstahl']}"
      ]
     },
     "execution_count": 12,
     "metadata": {},
     "output_type": "execute_result"
    }
   ],
   "source": [
    "from scraping import get_article as ga\n",
    "\n",
    "ga(url)"
   ]
  },
  {
   "cell_type": "markdown",
   "metadata": {},
   "source": [
    "Tada!"
   ]
  }
 ],
 "metadata": {
  "kernelspec": {
   "display_name": "Python 3",
   "language": "python",
   "name": "python3"
  },
  "language_info": {
   "codemirror_mode": {
    "name": "ipython",
    "version": 3
   },
   "file_extension": ".py",
   "mimetype": "text/x-python",
   "name": "python",
   "nbconvert_exporter": "python",
   "pygments_lexer": "ipython3",
   "version": "3.7.4"
  }
 },
 "nbformat": 4,
 "nbformat_minor": 4
}
